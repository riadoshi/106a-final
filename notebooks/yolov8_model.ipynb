{
 "cells": [
  {
   "cell_type": "code",
   "execution_count": 1,
   "metadata": {},
   "outputs": [],
   "source": [
    "from ultralytics import YOLO\n",
    "import cv2\n",
    "import numpy as np\n",
    "\n",
    "# Load the YOLOv8 Nano model\n",
    "model = YOLO(\"yolov8n.pt\") \n",
    "\n",
    "# Define a filter for the target objects\n",
    "TARGET_OBJECTS = [\"can\", \"water bottle\", \"plastic cup\", \"milk container\"]\n",
    "\n",
    "def detect_objects(image: np.ndarray):\n",
    "    \"\"\"\n",
    "    Perform inference on a numpy array image using YOLO.\n",
    "    Args:\n",
    "        image (np.ndarray): Input image as a numpy array (BGR format).\n",
    "    Returns:\n",
    "        list: List of detections with labels, bounding boxes, and confidences.\n",
    "    \"\"\"\n",
    "    # Convert numpy array (BGR) to RGB format as required by YOLO\n",
    "    rgb_image = cv2.cvtColor(image, cv2.COLOR_BGR2RGB)\n",
    "\n",
    "    # Perform inference\n",
    "    results = model(rgb_image)\n",
    "\n",
    "    # Parse results\n",
    "    detections = results.xyxy[0].cpu().numpy()  # Bounding box format: [x1, y1, x2, y2, confidence, class]\n",
    "    labels = results.names\n",
    "\n",
    "    print(labels)\n",
    "\n",
    "    output = []\n",
    "    for detection in detections:\n",
    "        x1, y1, x2, y2, confidence, cls_id = detection\n",
    "        label = labels[int(cls_id)]\n",
    "        # if label in TARGET_OBJECTS:\n",
    "        output.append({\n",
    "            \"label\": label,\n",
    "            \"bounding_box\": [int(x1), int(y1), int(x2), int(y2)],\n",
    "            \"confidence\": float(confidence)\n",
    "        })\n",
    "    return output\n",
    "\n"
   ]
  },
  {
   "cell_type": "code",
   "execution_count": 2,
   "metadata": {},
   "outputs": [],
   "source": [
    "# Load a sample image as a numpy array given a path\n",
    "image_path = '/home/riadoshi/106a/test_images/waterbottle_R.jpg'\n",
    "image = cv2.imread(image_path)\n",
    "\n",
    "# Perform detection\n",
    "results = detect_objects(image)\n",
    "\n",
    "# Print results\n",
    "for result in results:\n",
    "    print(f\"Detected {result['label']} with confidence {result['confidence']:.2f} at {result['bounding_box']}\")"
   ]
  },
  {
   "cell_type": "code",
   "execution_count": null,
   "metadata": {},
   "outputs": [],
   "source": []
  }
 ],
 "metadata": {
  "kernelspec": {
   "display_name": "base",
   "language": "python",
   "name": "python3"
  },
  "language_info": {
   "codemirror_mode": {
    "name": "ipython",
    "version": 3
   },
   "file_extension": ".py",
   "mimetype": "text/x-python",
   "name": "python",
   "nbconvert_exporter": "python",
   "pygments_lexer": "ipython3",
   "version": "3.10.13"
  }
 },
 "nbformat": 4,
 "nbformat_minor": 2
}
