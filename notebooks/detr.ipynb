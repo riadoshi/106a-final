{
 "cells": [
  {
   "cell_type": "code",
   "execution_count": 1,
   "metadata": {},
   "outputs": [
    {
     "name": "stderr",
     "output_type": "stream",
     "text": [
      "/home/riadoshi/miniconda3/envs/py310/lib/python3.10/site-packages/tqdm/auto.py:21: TqdmWarning: IProgress not found. Please update jupyter and ipywidgets. See https://ipywidgets.readthedocs.io/en/stable/user_install.html\n",
      "  from .autonotebook import tqdm as notebook_tqdm\n",
      "2024-12-03 04:13:24.140213: I tensorflow/core/util/port.cc:113] oneDNN custom operations are on. You may see slightly different numerical results due to floating-point round-off errors from different computation orders. To turn them off, set the environment variable `TF_ENABLE_ONEDNN_OPTS=0`.\n",
      "2024-12-03 04:13:24.186427: E external/local_xla/xla/stream_executor/cuda/cuda_dnn.cc:9261] Unable to register cuDNN factory: Attempting to register factory for plugin cuDNN when one has already been registered\n",
      "2024-12-03 04:13:24.186461: E external/local_xla/xla/stream_executor/cuda/cuda_fft.cc:607] Unable to register cuFFT factory: Attempting to register factory for plugin cuFFT when one has already been registered\n",
      "2024-12-03 04:13:24.187612: E external/local_xla/xla/stream_executor/cuda/cuda_blas.cc:1515] Unable to register cuBLAS factory: Attempting to register factory for plugin cuBLAS when one has already been registered\n",
      "2024-12-03 04:13:24.195200: I tensorflow/core/platform/cpu_feature_guard.cc:182] This TensorFlow binary is optimized to use available CPU instructions in performance-critical operations.\n",
      "To enable the following instructions: AVX2 AVX512F AVX512_VNNI FMA, in other operations, rebuild TensorFlow with the appropriate compiler flags.\n",
      "2024-12-03 04:13:25.271989: W tensorflow/compiler/tf2tensorrt/utils/py_utils.cc:38] TF-TRT Warning: Could not find TensorRT\n"
     ]
    }
   ],
   "source": [
    "import torch\n",
    "from transformers import DetrImageProcessor, DetrForObjectDetection\n",
    "from torchvision.transforms import functional as F\n",
    "import cv2\n",
    "import numpy as np\n",
    "\n",
    "# Define a filter for target objects\n",
    "TARGET_OBJECTS = [\"bottle\", \"cup\"]  # Adjust as needed for soda cans, water bottles, etc."
   ]
  },
  {
   "cell_type": "code",
   "execution_count": 2,
   "metadata": {},
   "outputs": [
    {
     "name": "stderr",
     "output_type": "stream",
     "text": [
      "Some weights of the model checkpoint at facebook/detr-resnet-50 were not used when initializing DetrForObjectDetection: ['model.backbone.conv_encoder.model.layer1.0.downsample.1.num_batches_tracked', 'model.backbone.conv_encoder.model.layer2.0.downsample.1.num_batches_tracked', 'model.backbone.conv_encoder.model.layer3.0.downsample.1.num_batches_tracked', 'model.backbone.conv_encoder.model.layer4.0.downsample.1.num_batches_tracked']\n",
      "- This IS expected if you are initializing DetrForObjectDetection from the checkpoint of a model trained on another task or with another architecture (e.g. initializing a BertForSequenceClassification model from a BertForPreTraining model).\n",
      "- This IS NOT expected if you are initializing DetrForObjectDetection from the checkpoint of a model that you expect to be exactly identical (initializing a BertForSequenceClassification model from a BertForSequenceClassification model).\n"
     ]
    }
   ],
   "source": [
    "# Load pre-trained DETR model and image processor\n",
    "processor = DetrImageProcessor.from_pretrained(\"facebook/detr-resnet-50\")\n",
    "model = DetrForObjectDetection.from_pretrained(\"facebook/detr-resnet-50\")"
   ]
  },
  {
   "cell_type": "code",
   "execution_count": 5,
   "metadata": {},
   "outputs": [],
   "source": [
    "# Define a filter for target objects\n",
    "TARGET_OBJECTS = [\"bottle\", \"cup\", \"orange\"]  # Replace with soda cans, water bottles, etc.\n",
    "\n",
    "def detect_objects(image: np.ndarray):\n",
    "\n",
    "    # Convert the image to RGB and preprocess it\n",
    "    rgb_image = cv2.cvtColor(image, cv2.COLOR_BGR2RGB)\n",
    "    inputs = processor(images=rgb_image, return_tensors=\"pt\")\n",
    "\n",
    "    # Perform inference\n",
    "    with torch.no_grad():\n",
    "        outputs = model(**inputs)\n",
    "\n",
    "    # Extract logits, boxes, and probabilities\n",
    "    logits = outputs.logits[0]  # Class logits\n",
    "    boxes = outputs.pred_boxes[0]  # Bounding boxes (normalized [0, 1])\n",
    "\n",
    "    # Compute class probabilities\n",
    "    probs = logits.softmax(-1)\n",
    "    confidences, class_ids = probs[..., :-1].max(-1)  # Ignore \"no-object\" class\n",
    "\n",
    "    # Denormalize bounding boxes\n",
    "    img_height, img_width = rgb_image.shape[:2]\n",
    "    boxes = boxes * torch.tensor([img_width, img_height, img_width, img_height], dtype=torch.float)\n",
    "\n",
    "    # Filter results\n",
    "    id2label = model.config.id2label\n",
    "    results = []\n",
    "    for i, confidence in enumerate(confidences):\n",
    "        if confidence > 0.5:  # Adjust confidence threshold if needed\n",
    "            label = id2label[class_ids[i].item()]\n",
    "            if label in TARGET_OBJECTS:\n",
    "                x_center, y_center, width, height = boxes[i].tolist()\n",
    "                x1 = int(x_center - width / 2)\n",
    "                y1 = int(y_center - height / 2)\n",
    "                x2 = int(x_center + width / 2)\n",
    "                y2 = int(y_center + height / 2)\n",
    "                results.append({\n",
    "                    \"label\": label,\n",
    "                    \"bounding_box\": [x1, y1, x2, y2],\n",
    "                    \"confidence\": float(confidence)\n",
    "                })\n",
    "    return results"
   ]
  },
  {
   "cell_type": "code",
   "execution_count": 9,
   "metadata": {},
   "outputs": [
    {
     "name": "stdout",
     "output_type": "stream",
     "text": [
      "Detected bottle with confidence 0.97 at [9, 47, 540, 1482]\n"
     ]
    }
   ],
   "source": [
    "# Load a sample image as a numpy array given a path\n",
    "image_path = '/home/riadoshi/106a-final/test_images/spray_NR.png'\n",
    "image = cv2.imread(image_path)\n",
    "\n",
    "# Perform detection\n",
    "results = detect_objects(image)\n",
    "\n",
    "# Print results\n",
    "for result in results:\n",
    "    print(f\"Detected {result['label']} with confidence {result['confidence']:.2f} at {result['bounding_box']}\")"
   ]
  },
  {
   "cell_type": "code",
   "execution_count": null,
   "metadata": {},
   "outputs": [],
   "source": []
  }
 ],
 "metadata": {
  "kernelspec": {
   "display_name": "base",
   "language": "python",
   "name": "python3"
  },
  "language_info": {
   "codemirror_mode": {
    "name": "ipython",
    "version": 3
   },
   "file_extension": ".py",
   "mimetype": "text/x-python",
   "name": "python",
   "nbconvert_exporter": "python",
   "pygments_lexer": "ipython3",
   "version": "3.10.13"
  }
 },
 "nbformat": 4,
 "nbformat_minor": 2
}
